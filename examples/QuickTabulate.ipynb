{
 "cells": [
  {
   "cell_type": "markdown",
   "metadata": {
    "collapsed": false
   },
   "source": [
    "# Benchmarking different methods\n",
    "\n",
    "The library provides various evaluation methods for benchmarking methods. Here we show you how to use the DistanceEvaluator and then we show how to do a quick comparison of a range of different recourse methods on a given dataset."
   ]
  },
  {
   "cell_type": "code",
   "metadata": {
    "collapsed": false,
    "ExecuteTime": {
     "end_time": "2025-02-07T11:35:15.040455Z",
     "start_time": "2025-02-07T11:35:15.034142Z"
    }
   },
   "source": [
    "# Depending on whether you want example or custom dataset, import relevant module\n",
    "import os\n",
    "import sys\n",
    "sys.path.append(os.path.join(os.path.dirname('rocelib'), '..'))\n",
    "\n",
    "from robustx.datasets.ExampleDatasets import get_example_dataset\n",
    "from robustx.datasets.custom_datasets.CsvDatasetLoader import CsvDatasetLoader\n",
    "\n",
    "# Import your model\n",
    "from robustx.lib.models.pytorch_models.SimpleNNModel import SimpleNNModel\n",
    "\n",
    "# Import the ClassificationTask module required for recourse generation\n",
    "from robustx.lib.tasks.ClassificationTask import ClassificationTask\n",
    "\n",
    "# Import the recourse method you wish to use\n",
    "from robustx.generators.CE_methods.BinaryLinearSearch import BinaryLinearSearch\n",
    "\n",
    "# Import evaluator you wish to use\n",
    "from robustx.evaluations.DistanceEvaluator import DistanceEvaluator"
   ],
   "outputs": [],
   "execution_count": 1
  },
  {
   "cell_type": "markdown",
   "metadata": {
    "collapsed": false
   },
   "source": [
    "You can import your own custom dataset. These datasets must be preprocessed to work with the provided recourse methods."
   ]
  },
  {
   "cell_type": "code",
   "metadata": {
    "collapsed": false,
    "ExecuteTime": {
     "end_time": "2025-02-07T11:35:15.081755Z",
     "start_time": "2025-02-07T11:35:15.072637Z"
    }
   },
   "source": [
    "# Custom dataset\n",
    "dl = CsvDatasetLoader(\"../tests/assets/standardized_recruitment_data.csv\", target_column=\"HiringDecision\")\n",
    "\n",
    "print(dl.data.head())"
   ],
   "outputs": [
    {
     "name": "stdout",
     "output_type": "stream",
     "text": [
      "        Age  Gender  EducationLevel  ExperienceYears  PreviousCompanies  \\\n",
      "0 -0.989083       1               2        -1.658237          -0.001418   \n",
      "1  0.416376       1               4         0.928044          -0.001418   \n",
      "2  1.389387       0               2        -1.011667          -0.710538   \n",
      "3 -0.124185       1               2        -0.580620          -0.710538   \n",
      "4 -0.556634       0               1        -0.365097          -1.419657   \n",
      "\n",
      "   DistanceFromCompany  InterviewScore  SkillScore  PersonalityScore  \\\n",
      "0             0.087792       -0.089598    0.916174          1.418126   \n",
      "1             0.024537       -0.543879    0.575386          1.043255   \n",
      "2            -1.070200       -1.068049    0.541307         -1.240051   \n",
      "3            -1.311444       -0.508934   -0.821844          0.702463   \n",
      "4             1.208598       -0.963215    0.030126          1.213651   \n",
      "\n",
      "   RecruitmentStrategy  HiringDecision  \n",
      "0                    1               1  \n",
      "1                    2               1  \n",
      "2                    2               0  \n",
      "3                    3               0  \n",
      "4                    2               0  \n"
     ]
    }
   ],
   "execution_count": 2
  },
  {
   "cell_type": "markdown",
   "metadata": {
    "collapsed": false
   },
   "source": [
    "Alternatively, you can also use an example dataset, remember to preprocess these too!"
   ]
  },
  {
   "cell_type": "code",
   "metadata": {
    "collapsed": false,
    "ExecuteTime": {
     "end_time": "2025-02-07T11:35:15.925210Z",
     "start_time": "2025-02-07T11:35:15.082840Z"
    }
   },
   "source": [
    "# Load the dataset, here we are using an example one, you can import a custom CSV too\n",
    "dl = get_example_dataset(\"ionosphere\")\n",
    "\n",
    "print(dl.data.head())\n",
    "\n",
    "dl.default_preprocess()\n",
    "print(dl.data.head())"
   ],
   "outputs": [
    {
     "name": "stdout",
     "output_type": "stream",
     "text": [
      "   feature_0  feature_1  feature_2  feature_3  feature_4  feature_5  \\\n",
      "0          1          0    0.99539   -0.05889    0.85243    0.02306   \n",
      "1          1          0    1.00000   -0.18829    0.93035   -0.36156   \n",
      "2          1          0    1.00000   -0.03365    1.00000    0.00485   \n",
      "3          1          0    1.00000   -0.45161    1.00000    1.00000   \n",
      "4          1          0    1.00000   -0.02401    0.94140    0.06531   \n",
      "\n",
      "   feature_6  feature_7  feature_8  feature_9  ...  feature_25  feature_26  \\\n",
      "0    0.83398   -0.37708    1.00000    0.03760  ...    -0.51171     0.41078   \n",
      "1   -0.10868   -0.93597    1.00000   -0.04549  ...    -0.26569    -0.20468   \n",
      "2    1.00000   -0.12062    0.88965    0.01198  ...    -0.40220     0.58984   \n",
      "3    0.71216   -1.00000    0.00000    0.00000  ...     0.90695     0.51613   \n",
      "4    0.92106   -0.23255    0.77152   -0.16399  ...    -0.65158     0.13290   \n",
      "\n",
      "   feature_27  feature_28  feature_29  feature_30  feature_31  feature_32  \\\n",
      "0    -0.46168     0.21266    -0.34090     0.42267    -0.54487     0.18641   \n",
      "1    -0.18401    -0.19040    -0.11593    -0.16626    -0.06288    -0.13738   \n",
      "2    -0.22145     0.43100    -0.17365     0.60436    -0.24180     0.56045   \n",
      "3     1.00000     1.00000    -0.20099     0.25682     1.00000    -0.32382   \n",
      "4    -0.53206     0.02431    -0.62197    -0.05707    -0.59573    -0.04608   \n",
      "\n",
      "   feature_33  target  \n",
      "0    -0.45300       g  \n",
      "1    -0.02447       b  \n",
      "2    -0.38238       g  \n",
      "3     1.00000       b  \n",
      "4    -0.65697       g  \n",
      "\n",
      "[5 rows x 35 columns]\n",
      "   feature_0  feature_1  feature_2  feature_3  feature_4  feature_5  \\\n",
      "0   0.348433        0.0   0.712372  -0.234257   0.484208  -0.201735   \n",
      "1   0.348433        0.0   0.721648  -0.527811   0.634308  -1.037587   \n",
      "2   0.348433        0.0   0.721648  -0.176998   0.768477  -0.241309   \n",
      "3   0.348433        0.0   0.721648  -1.125172   0.768477   1.921340   \n",
      "4   0.348433        0.0   0.721648  -0.155129   0.655594  -0.109918   \n",
      "\n",
      "   feature_6  feature_7  feature_8  feature_9  ...  feature_25  feature_26  \\\n",
      "0   0.577059  -0.954679   0.964074  -0.297510  ...   -0.867565   -0.253868   \n",
      "1  -1.339106  -2.029452   0.964074  -0.469482  ...   -0.383054   -1.447849   \n",
      "2   0.914531  -0.461494   0.746139  -0.350536  ...   -0.651896    0.093506   \n",
      "3   0.329433  -2.152585  -1.010873  -0.375331  ...    1.926340   -0.049490   \n",
      "4   0.754068  -0.676741   0.512838  -0.714742  ...   -1.143025   -0.792950   \n",
      "\n",
      "   feature_27  feature_28  feature_29  feature_30  feature_31  feature_32  \\\n",
      "0   -0.713971   -0.288290   -0.617039    0.122937   -1.055054   -0.312221   \n",
      "1   -0.208419   -0.989185   -0.173530   -0.909063   -0.115213   -0.932605   \n",
      "2   -0.276586    0.091389   -0.287320    0.441318   -0.464092    0.404443   \n",
      "3    1.947300    1.080843   -0.341218   -0.167687    1.957315   -1.289826   \n",
      "4   -0.842112   -0.615818   -1.171144   -0.717726   -1.154227   -0.757673   \n",
      "\n",
      "   feature_33  target  \n",
      "0   -0.999595       1  \n",
      "1   -0.083286       0  \n",
      "2   -0.848591       1  \n",
      "3    2.107299       0  \n",
      "4   -1.435736       1  \n",
      "\n",
      "[5 rows x 35 columns]\n"
     ]
    }
   ],
   "execution_count": 3
  },
  {
   "cell_type": "markdown",
   "metadata": {
    "collapsed": false
   },
   "source": [
    "Now import your model, in this case we are using a Neural Network model. Be aware of the fact that certain recourse methods may not work with some models, e.g., MCE and other MILP based methods are exclusive to Neural Networks"
   ]
  },
  {
   "cell_type": "code",
   "metadata": {
    "collapsed": false,
    "ExecuteTime": {
     "end_time": "2025-02-07T11:35:17.152143Z",
     "start_time": "2025-02-07T11:35:15.926560Z"
    }
   },
   "source": [
    "# Importing Pytorch NN\n",
    "model = SimpleNNModel(34, [10], 1)"
   ],
   "outputs": [],
   "execution_count": 4
  },
  {
   "cell_type": "markdown",
   "metadata": {
    "collapsed": false
   },
   "source": [
    "Create a ClassificationTask using the model and dataset, and then call the train method to train the model on the dataset"
   ]
  },
  {
   "cell_type": "code",
   "metadata": {
    "collapsed": false,
    "ExecuteTime": {
     "end_time": "2025-02-07T11:35:17.199832Z",
     "start_time": "2025-02-07T11:35:17.153546Z"
    }
   },
   "source": [
    "model.train(dl.X, dl.y)\n",
    "task = ClassificationTask(model, dl)"
   ],
   "outputs": [],
   "execution_count": 5
  },
  {
   "cell_type": "markdown",
   "metadata": {
    "collapsed": false
   },
   "source": [
    "Instantiate your recourse generator"
   ]
  },
  {
   "cell_type": "code",
   "metadata": {
    "collapsed": false,
    "ExecuteTime": {
     "end_time": "2025-02-07T11:35:17.202611Z",
     "start_time": "2025-02-07T11:35:17.200543Z"
    }
   },
   "source": [
    "# Remember, the recourse generator takes in the task during instantiation\n",
    "generator = BinaryLinearSearch(task)"
   ],
   "outputs": [],
   "execution_count": 6
  },
  {
   "cell_type": "markdown",
   "metadata": {
    "collapsed": false
   },
   "source": [
    "Now generate!"
   ]
  },
  {
   "cell_type": "code",
   "metadata": {
    "collapsed": false,
    "ExecuteTime": {
     "end_time": "2025-02-07T11:35:17.615963Z",
     "start_time": "2025-02-07T11:35:17.203155Z"
    }
   },
   "source": [
    "# Have a look at the RecourseGenerator notebook to see the other generation functions you can use!\n",
    "recourses = generator.generate_for_all(neg_value=0)\n",
    "\n",
    "print(recourses.head())"
   ],
   "outputs": [
    {
     "name": "stdout",
     "output_type": "stream",
     "text": [
      "   feature_0  feature_1  feature_2  feature_3  feature_4  feature_5  \\\n",
      "1   0.348433        0.0  -0.787410   0.277442  -0.258895   0.327676   \n",
      "3   0.348433        0.0  -0.753869  -0.327518  -0.130486  -0.251849   \n",
      "5   0.348433        0.0  -0.000245  -0.068833  -0.500092  -0.304853   \n",
      "7   0.348433        0.0  -0.859261  -0.316720  -0.515753  -0.096618   \n",
      "9   0.348433        0.0  -0.410146  -0.006129  -0.034169  -0.478230   \n",
      "\n",
      "   feature_6  feature_7  feature_8  feature_9  ...  feature_26  feature_27  \\\n",
      "1  -0.731241   0.231342  -0.857498   0.037347  ...   -1.062820    0.115937   \n",
      "3  -0.440623  -0.485936  -0.286719  -0.133859  ...   -0.154230    0.225634   \n",
      "5  -0.045909  -0.162883  -0.625521  -0.122931  ...   -0.676279    0.229312   \n",
      "7  -0.730997   0.136767  -0.540638  -0.178213  ...   -0.621863    0.084913   \n",
      "9  -0.313578  -0.229536  -0.352564  -0.504687  ...   -0.196948   -0.056628   \n",
      "\n",
      "   feature_28  feature_29  feature_30  feature_31  feature_32  feature_33  \\\n",
      "1   -0.663204    0.044765   -0.619280   -0.000558   -0.668905   -0.037185   \n",
      "3    0.037482    0.120724    0.200039    0.072388    0.128960   -0.137875   \n",
      "5   -0.355343    0.163523   -0.275806    0.007398   -0.342264    0.125494   \n",
      "7   -0.326859    0.055016   -0.319877   -0.032264   -0.387845   -0.071097   \n",
      "9    0.066470   -0.109262    0.404466   -0.601952   -0.030721   -0.164604   \n",
      "\n",
      "   target      loss  \n",
      "1       1  5.925805  \n",
      "3       1  7.405216  \n",
      "5       1  2.593889  \n",
      "7       1  7.953763  \n",
      "9       1  4.269770  \n",
      "\n",
      "[5 rows x 36 columns]\n"
     ]
    }
   ],
   "execution_count": 7
  },
  {
   "cell_type": "markdown",
   "metadata": {
    "collapsed": false
   },
   "source": [
    "Now, you can use the evaluator you used to evaluate that particular aspect of the recourses"
   ]
  },
  {
   "cell_type": "code",
   "metadata": {
    "collapsed": false,
    "ExecuteTime": {
     "end_time": "2025-02-07T11:35:17.622160Z",
     "start_time": "2025-02-07T11:35:17.616938Z"
    }
   },
   "source": [
    "# The evaluators also take the task as an argument\n",
    "distance_eval = DistanceEvaluator(task)\n",
    "\n",
    "print(recourses[\"loss\"].mean())\n",
    "\n",
    "# Provide the recourses to evaluate\n",
    "print(f\"Average distance: {distance_eval.evaluate(recourses)}\")"
   ],
   "outputs": [
    {
     "name": "stdout",
     "output_type": "stream",
     "text": [
      "6.333456449397144\n",
      "Average distance: 6.333456449397144\n"
     ]
    }
   ],
   "execution_count": 8
  },
  {
   "cell_type": "markdown",
   "metadata": {
    "collapsed": false
   },
   "source": [
    "# Using QuickTabulate\n",
    "\n",
    "But what if you want to evaluate and benchmark several methods in one go? You can use QuickTabulate!"
   ]
  },
  {
   "cell_type": "markdown",
   "metadata": {
    "collapsed": false
   },
   "source": [
    "First import the quick_tabulate function and all relevant generation methods"
   ]
  },
  {
   "cell_type": "code",
   "metadata": {
    "collapsed": false,
    "ExecuteTime": {
     "end_time": "2025-02-07T11:35:17.692436Z",
     "start_time": "2025-02-07T11:35:17.622947Z"
    }
   },
   "source": [
    "from robustx.lib.QuickTabulate import quick_tabulate\n",
    "\n",
    "from robustx.generators.CE_methods.Wachter import Wachter\n",
    "from robustx.generators.robust_CE_methods.MCER import MCER\n",
    "from robustx.generators.CE_methods.MCE import MCE"
   ],
   "outputs": [],
   "execution_count": 9
  },
  {
   "cell_type": "markdown",
   "metadata": {
    "collapsed": false
   },
   "source": [
    "Now, create a dictionary consisting of the names of each recourse generation method and the respective class. Notice, we haven't instantiated the class (i.e., we haven't used () after the method name)!"
   ]
  },
  {
   "cell_type": "code",
   "metadata": {
    "collapsed": false,
    "ExecuteTime": {
     "end_time": "2025-02-07T11:35:17.693239Z",
     "start_time": "2025-02-07T11:35:17.693183Z"
    }
   },
   "source": [
    "# The keys are the names you would like to show in the table produced\n",
    "methods = {\"BLS\": BinaryLinearSearch, \"MCE\": MCE, \"MCER\": MCER, \"Wachter\": Wachter}"
   ],
   "outputs": [],
   "execution_count": 10
  },
  {
   "cell_type": "markdown",
   "metadata": {
    "collapsed": false
   },
   "source": [
    "And finally, call the quick_tabulate function!\n",
    "\n",
    "It is important to note that each recourse generator may take different arguments. These arguments have default values in each recourse generator, however to pass a custom value you can simply pass them as a keyword argument into quick_tabulate, as we have done for delta here.\n",
    "\n",
    "Furthermore, if you are using an example dataset, you can set the preprocess parameter to True if you would like to default preprocess the dataset."
   ]
  },
  {
   "cell_type": "code",
   "metadata": {
    "collapsed": false
   },
   "source": [
    "quick_tabulate(dl, model, methods, neg_value=0, column_name=\"target\", preprocess=False, delta=0.005)"
   ],
   "outputs": [
    {
     "name": "stdout",
     "output_type": "stream",
     "text": [
      "Set parameter Username\n",
      "\n",
      "--------------------------------------------\n",
      "Warning: your license will expire in 4 days\n",
      "--------------------------------------------\n",
      "\n",
      "Academic license - for non-commercial use only - expires 2025-02-14\n",
      "+----------+----------------------+-----------------------+--------------------+-------------------------+\n",
      "| Method   |   Execution Time (s) |   Validity proportion |   Average Distance |   Robustness proportion |\n",
      "+==========+======================+=======================+====================+=========================+\n",
      "| BLS      |              2.1018  |                 0.976 |            6.59554 |                   0     |\n",
      "+----------+----------------------+-----------------------+--------------------+-------------------------+\n",
      "| MCE      |              3.36615 |                 0     |            8.52386 |                   0     |\n",
      "+----------+----------------------+-----------------------+--------------------+-------------------------+\n",
      "| MCER     |             37.2661  |                 0     |           12.9494  |                   1     |\n",
      "+----------+----------------------+-----------------------+--------------------+-------------------------+\n",
      "| Wachter  |              1.53272 |                 0     |            1.89238 |                   0.168 |\n",
      "+----------+----------------------+-----------------------+--------------------+-------------------------+\n"
     ]
    }
   ],
   "execution_count": 11
  },
  {
   "cell_type": "markdown",
   "metadata": {
    "collapsed": false
   },
   "source": [
    "If subset is not specified, quick_tabulate assumes you would like to produce recourses for all negative instances. You may specify a subset as shown below."
   ]
  },
  {
   "cell_type": "code",
   "metadata": {
    "collapsed": false
   },
   "source": [
    "subset = dl.get_negative_instances(neg_value=0, column_name=\"target\").sample(n=50)\n",
    "\n",
    "quick_tabulate(dl, model, methods, subset=subset, neg_value=0, column_name=\"target\", preprocess=False, delta=0.005)"
   ],
   "outputs": [
    {
     "name": "stdout",
     "output_type": "stream",
     "text": [
      "No solution found using MCE!\n",
      "No possible solution for given parameters - maybe your delta is TOO HIGH!\n",
      "No solution found using MCE!\n",
      "No possible solution for given parameters - maybe your delta is TOO HIGH!\n",
      "No solution found using MCE!\n",
      "No possible solution for given parameters - maybe your delta is TOO HIGH!\n",
      "+----------+----------------------+-----------------------+--------------------+-------------------------+\n",
      "| Method   |   Execution Time (s) |   Validity proportion |   Average Distance |   Robustness proportion |\n",
      "+==========+======================+=======================+====================+=========================+\n",
      "| BLS      |             1.04962  |                  0.96 |            6.60456 |                    0    |\n",
      "+----------+----------------------+-----------------------+--------------------+-------------------------+\n",
      "| MCE      |             1.32824  |                  0    |            8.38158 |                    0    |\n",
      "+----------+----------------------+-----------------------+--------------------+-------------------------+\n",
      "| MCER     |            28.0492   |                  0.06 |           11.814   |                    0.94 |\n",
      "+----------+----------------------+-----------------------+--------------------+-------------------------+\n",
      "| Wachter  |             0.555358 |                  0    |            1.39619 |                    0.14 |\n",
      "+----------+----------------------+-----------------------+--------------------+-------------------------+\n"
     ]
    }
   ],
   "execution_count": 12
  },
  {
   "cell_type": "markdown",
   "metadata": {
    "collapsed": false
   },
   "source": [
    "And there you have it! That's how you can compare various methods on a singular dataset."
   ]
  }
 ],
 "metadata": {
  "kernelspec": {
   "display_name": "robcelib",
   "language": "python",
   "name": "python3"
  },
  "language_info": {
   "codemirror_mode": {
    "name": "ipython",
    "version": 3
   },
   "file_extension": ".py",
   "mimetype": "text/x-python",
   "name": "python",
   "nbconvert_exporter": "python",
   "pygments_lexer": "ipython3",
   "version": "3.10.16"
  }
 },
 "nbformat": 4,
 "nbformat_minor": 0
}
