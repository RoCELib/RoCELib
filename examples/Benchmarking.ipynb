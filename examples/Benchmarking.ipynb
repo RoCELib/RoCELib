{
 "cells": [
  {
   "cell_type": "markdown",
   "source": [
    "# Benchmarking different methods\n",
    "\n",
    "This notebook presents a pipeline to run CEs benchmarking in an example dataset.\n",
    "\n",
    "We use the ```default_benchmark()``` function which is an example pipeline defined in lib/DefaultBenchmark.py. One can instantiate similar functions for compact benchmarking."
   ],
   "metadata": {
    "collapsed": false
   }
  },
  {
   "cell_type": "code",
   "execution_count": 1,
   "outputs": [],
   "source": [
    "# first load a dataset and train a neural network, create task\n",
    "\n",
    "from robustx.datasets.ExampleDatasets import get_example_dataset\n",
    "from robustx.lib.models.pytorch_models.SimpleNNModel import SimpleNNModel\n",
    "from robustx.lib.tasks.ClassificationTask import ClassificationTask\n",
    "\n",
    "dl = get_example_dataset(\"ionosphere\")\n",
    "dl.default_preprocess()\n",
    "model = SimpleNNModel(34, [8], 1)\n",
    "model.train(dl.X, dl.y)\n",
    "task = ClassificationTask(model, dl)"
   ],
   "metadata": {
    "collapsed": false
   }
  },
  {
   "cell_type": "code",
   "execution_count": 2,
   "outputs": [],
   "source": [
    "# then specify the methods we want to benchmark, for example:\n",
    "from robustx.generators.robust_CE_methods import MCER, RNCE, STCE, PROPLACE\n",
    "from robustx.generators.CE_methods import KDTreeNNCE, MCE\n",
    "methods = {\"MCER\": MCER, \"RNCE\": RNCE, \"STCE\": STCE, \"PROPLACE\": PROPLACE, \"NNCE\": KDTreeNNCE, \"MCE\": MCE}"
   ],
   "metadata": {
    "collapsed": false
   }
  },
  {
   "cell_type": "code",
   "execution_count": 4,
   "outputs": [
    {
     "name": "stdout",
     "output_type": "stream",
     "text": [
      "+----------+----------------------+-----------------------+--------------------+-------------------------+\n",
      "| Method   |   Execution Time (s) |   Validity proportion |   Average Distance |   Robustness proportion |\n",
      "+==========+======================+=======================+====================+=========================+\n",
      "| MCER     |           220.465    |                     1 |            4.84097 |                0.609589 |\n",
      "+----------+----------------------+-----------------------+--------------------+-------------------------+\n",
      "| RNCE     |             3.49495  |                     1 |            6.03384 |                1        |\n",
      "+----------+----------------------+-----------------------+--------------------+-------------------------+\n",
      "| STCE     |            36.4758   |                     1 |            7.29928 |                1        |\n",
      "+----------+----------------------+-----------------------+--------------------+-------------------------+\n",
      "| PROPLACE |            13.0687   |                     1 |            6.01655 |                1        |\n",
      "+----------+----------------------+-----------------------+--------------------+-------------------------+\n",
      "| NNCE     |             0.235206 |                     1 |            5.41472 |                0.335616 |\n",
      "+----------+----------------------+-----------------------+--------------------+-------------------------+\n",
      "| MCE      |             4.34512  |                     1 |            2.94843 |                0        |\n",
      "+----------+----------------------+-----------------------+--------------------+-------------------------+\n"
     ]
    }
   ],
   "source": [
    "# run benchmarking with default values - find CEs for all instances predicted with the undesirable class (0) and compare\n",
    "from robustx.lib.DefaultBenchmark import default_benchmark\n",
    "default_benchmark(task, methods, neg_value=0, column_name=\"target\", delta=0.005)"
   ],
   "metadata": {
    "collapsed": false
   }
  },
  {
   "cell_type": "code",
   "execution_count": null,
   "outputs": [],
   "source": [],
   "metadata": {
    "collapsed": false
   }
  }
 ],
 "metadata": {
  "kernelspec": {
   "display_name": "Python 3",
   "language": "python",
   "name": "python3"
  },
  "language_info": {
   "codemirror_mode": {
    "name": "ipython",
    "version": 2
   },
   "file_extension": ".py",
   "mimetype": "text/x-python",
   "name": "python",
   "nbconvert_exporter": "python",
   "pygments_lexer": "ipython2",
   "version": "2.7.6"
  }
 },
 "nbformat": 4,
 "nbformat_minor": 0
}
