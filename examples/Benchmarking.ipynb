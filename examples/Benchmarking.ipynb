{
 "cells": [
  {
   "cell_type": "markdown",
   "source": [
    "# Benchmarking different methods\n",
    "\n",
    "This notebook presents a pipeline to run CEs benchmarking in an example dataset.\n",
    "\n",
    "We use the ```default_benchmark()``` function which is an example pipeline defined in lib/DefaultBenchmark.py. One can instantiate similar functions for compact benchmarking."
   ],
   "metadata": {
    "collapsed": false
   }
  },
  {
   "cell_type": "code",
   "execution_count": 1,
   "outputs": [],
   "source": [
    "# first load a dataset and train a neural network, create task\n",
    "\n",
    "from robustx.datasets.ExampleDatasets import get_example_dataset\n",
    "from robustx.lib.models.pytorch_models.SimpleNNModel import SimpleNNModel\n",
    "from robustx.lib.tasks.ClassificationTask import ClassificationTask\n",
    "\n",
    "dl = get_example_dataset(\"ionosphere\")\n",
    "dl.default_preprocess()\n",
    "model = SimpleNNModel(34, [8], 1)\n",
    "model.train(dl.X, dl.y)\n",
    "task = ClassificationTask(model, dl)"
   ],
   "metadata": {
    "collapsed": false
   }
  },
  {
   "cell_type": "code",
   "execution_count": 3,
   "outputs": [
    {
     "name": "stdout",
     "output_type": "stream",
     "text": [
      "+------------+----------------------+------------+------------+--------------------+\n",
      "| Method     |   Execution Time (s) |   Validity |   Distance |   Delta-robustness |\n",
      "+============+======================+============+============+====================+\n",
      "| KDTreeNNCE |              0.21686 |          1 |    5.76588 |           0.515625 |\n",
      "+------------+----------------------+------------+------------+--------------------+\n",
      "| MCE        |              3.44478 |          1 |    3.26922 |           0        |\n",
      "+------------+----------------------+------------+------------+--------------------+\n",
      "| MCER       |            137.563   |          1 |    5.14061 |           0.648438 |\n",
      "+------------+----------------------+------------+------------+--------------------+\n",
      "| RNCE       |              3.98173 |          1 |    6.03255 |           1        |\n",
      "+------------+----------------------+------------+------------+--------------------+\n",
      "| STCE       |             29.6889  |          1 |    6.86523 |           1        |\n",
      "+------------+----------------------+------------+------------+--------------------+\n",
      "| PROPLACE   |             12.9444  |          1 |    5.96721 |           1        |\n",
      "+------------+----------------------+------------+------------+--------------------+\n"
     ]
    }
   ],
   "source": [
    "# speccify the names of the methods and evaluations we want to use, run benchmarking\n",
    "# This will find CEs for all instances predicted with the undesirable class (0) and compare\n",
    "\n",
    "from robustx.lib.DefaultBenchmark import default_benchmark\n",
    "methods = [\"KDTreeNNCE\", \"MCE\", \"MCER\", \"RNCE\", \"STCE\", \"PROPLACE\"]\n",
    "evaluations = [\"Validity\", \"Distance\", \"Delta-robustness\"]\n",
    "default_benchmark(task, methods, evaluations, neg_value=0, column_name=\"target\", delta=0.005)"
   ],
   "metadata": {
    "collapsed": false
   }
  },
  {
   "cell_type": "code",
   "execution_count": null,
   "outputs": [],
   "source": [],
   "metadata": {
    "collapsed": false
   }
  }
 ],
 "metadata": {
  "kernelspec": {
   "display_name": "Python 3",
   "language": "python",
   "name": "python3"
  },
  "language_info": {
   "codemirror_mode": {
    "name": "ipython",
    "version": 2
   },
   "file_extension": ".py",
   "mimetype": "text/x-python",
   "name": "python",
   "nbconvert_exporter": "python",
   "pygments_lexer": "ipython2",
   "version": "2.7.6"
  }
 },
 "nbformat": 4,
 "nbformat_minor": 0
}
