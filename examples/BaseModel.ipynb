{
 "cells": [
  {
   "cell_type": "markdown",
   "metadata": {},
   "source": [
    "# Extending BaseModel: LogisticRegressionModel Example\n",
    "\n",
    "This notebook demonstrates how to extend the `BaseModel` abstract base class and implement its methods using a custom logistic regression model from scikit-learn (different to the basic one provided in the library). This will allow your model to be used in other recourse generation methods."
   ]
  },
  {
   "cell_type": "code",
   "metadata": {
    "collapsed": false,
    "ExecuteTime": {
     "end_time": "2025-02-07T11:34:15.941036Z",
     "start_time": "2025-02-07T11:34:15.932335Z"
    }
   },
   "source": [
    "# Import BaseModel\n",
    "import os\n",
    "import sys\n",
    "sys.path.append(os.path.join(os.path.dirname('rocelib'), '..'))\n",
    "from robustx.lib.models.BaseModel import BaseModel\n",
    "\n",
    "# Import modules four your model\n",
    "import pandas as pd\n",
    "import torch\n",
    "from sklearn.linear_model import LogisticRegression\n",
    "from sklearn.metrics import accuracy_score, classification_report\n",
    "from sklearn.model_selection import train_test_split\n",
    "from sklearn.datasets import load_iris"
   ],
   "outputs": [],
   "execution_count": 4
  },
  {
   "cell_type": "code",
   "metadata": {
    "ExecuteTime": {
     "end_time": "2025-02-07T11:34:15.950390Z",
     "start_time": "2025-02-07T11:34:15.944668Z"
    }
   },
   "source": [
    "# Extend BaseModel and implement all its methods\n",
    "class LogisticRegressionModel(BaseModel):\n",
    "    def __init__(self):\n",
    "        super().__init__(LogisticRegression())\n",
    "    \n",
    "    def train(self, X: pd.DataFrame, y: pd.DataFrame) -> None:\n",
    "        self._model.fit(X, y.values.ravel())\n",
    "    \n",
    "    def predict(self, X: pd.DataFrame) -> pd.DataFrame:\n",
    "        predictions = self._model.predict(X)\n",
    "        return pd.DataFrame(predictions, columns=['prediction'], index=X.index)\n",
    "    \n",
    "    def predict_single(self, X: pd.DataFrame) -> int:\n",
    "        return int(self._model.predict(X)[0])\n",
    "    \n",
    "    def predict_proba(self, X: pd.DataFrame) -> pd.DataFrame:\n",
    "        probabilities = self._model.predict_proba(X)\n",
    "        return pd.DataFrame(probabilities, columns=[f'class_{i}' for i in range(probabilities.shape[1])], index=X.index)\n",
    "    \n",
    "    def predict_proba_tensor(self, X: torch.Tensor) -> torch.Tensor:\n",
    "        X_numpy = X.numpy()\n",
    "        probabilities = self._model.predict_proba(X_numpy)\n",
    "        return torch.tensor(probabilities)\n",
    "    \n",
    "    def evaluate(self, X: pd.DataFrame, y: pd.DataFrame):\n",
    "        y_pred = self.predict(X)\n",
    "        accuracy = accuracy_score(y, y_pred)\n",
    "        report = classification_report(y, y_pred)\n",
    "        return {\n",
    "            'accuracy': accuracy,\n",
    "            'classification_report': report\n",
    "        }"
   ],
   "outputs": [],
   "execution_count": 5
  },
  {
   "cell_type": "markdown",
   "metadata": {},
   "source": [
    "## Example Usage"
   ]
  },
  {
   "cell_type": "code",
   "metadata": {
    "ExecuteTime": {
     "end_time": "2025-02-07T11:34:15.992588Z",
     "start_time": "2025-02-07T11:34:15.951108Z"
    }
   },
   "source": [
    "# Load the Iris dataset, we are not using a DatasetLoader here, using the DatasetLoader with a BaseModel\n",
    "# is covered in the Tasks notebook\n",
    "iris = load_iris()\n",
    "X = pd.DataFrame(iris.data, columns=iris.feature_names)\n",
    "y = pd.DataFrame(iris.target, columns=['target'])\n",
    "\n",
    "# Split the data\n",
    "X_train, X_test, y_train, y_test = train_test_split(X, y, test_size=0.2, random_state=42)\n",
    "\n",
    "# Create and train the model\n",
    "model = LogisticRegressionModel()\n",
    "model.train(X_train, y_train)\n",
    "\n",
    "# Make predictions\n",
    "predictions = model.predict(X_test)\n",
    "print(\"Predictions:\")\n",
    "print(predictions.head())\n",
    "\n",
    "# Make a single prediction\n",
    "single_prediction = model.predict_single(X_test.iloc[[0]])\n",
    "print(f\"\\nSingle prediction: {single_prediction}\")\n",
    "\n",
    "# Predict probabilities\n",
    "probabilities = model.predict_proba(X_test)\n",
    "print(\"\\nProbabilities:\")\n",
    "print(probabilities.head())\n",
    "\n",
    "# Predict probabilities using tensor input\n",
    "X_tensor = torch.tensor(X_test.values, dtype=torch.float32)\n",
    "proba_tensor = model.predict_proba_tensor(X_tensor)\n",
    "print(\"\\nProbabilities (tensor):\")\n",
    "print(proba_tensor[:5])\n",
    "\n",
    "# Evaluate the model\n",
    "evaluation = model.evaluate(X_test, y_test)\n",
    "print(f\"\\nAccuracy: {evaluation['accuracy']}\")\n",
    "print(\"\\nClassification Report:\")\n",
    "print(evaluation['classification_report'])"
   ],
   "outputs": [
    {
     "name": "stdout",
     "output_type": "stream",
     "text": [
      "Predictions:\n",
      "     prediction\n",
      "73            1\n",
      "18            0\n",
      "118           2\n",
      "78            1\n",
      "76            1\n",
      "\n",
      "Single prediction: 1\n",
      "\n",
      "Probabilities:\n",
      "          class_0   class_1       class_2\n",
      "73   3.802986e-03  0.827740  1.684571e-01\n",
      "18   9.469621e-01  0.053038  1.987902e-07\n",
      "118  8.856873e-09  0.001549  9.984515e-01\n",
      "78   6.484326e-03  0.792230  2.012861e-01\n",
      "76   1.457334e-03  0.774130  2.244126e-01\n",
      "\n",
      "Probabilities (tensor):\n",
      "tensor([[3.8030e-03, 8.2774e-01, 1.6846e-01],\n",
      "        [9.4696e-01, 5.3038e-02, 1.9879e-07],\n",
      "        [8.8569e-09, 1.5485e-03, 9.9845e-01],\n",
      "        [6.4843e-03, 7.9223e-01, 2.0129e-01],\n",
      "        [1.4573e-03, 7.7413e-01, 2.2441e-01]], dtype=torch.float64)\n",
      "\n",
      "Accuracy: 1.0\n",
      "\n",
      "Classification Report:\n",
      "              precision    recall  f1-score   support\n",
      "\n",
      "           0       1.00      1.00      1.00        10\n",
      "           1       1.00      1.00      1.00         9\n",
      "           2       1.00      1.00      1.00        11\n",
      "\n",
      "    accuracy                           1.00        30\n",
      "   macro avg       1.00      1.00      1.00        30\n",
      "weighted avg       1.00      1.00      1.00        30\n",
      "\n"
     ]
    },
    {
     "name": "stderr",
     "output_type": "stream",
     "text": [
      "/opt/miniconda3/envs/robcelib/lib/python3.10/site-packages/sklearn/base.py:493: UserWarning: X does not have valid feature names, but LogisticRegression was fitted with feature names\n",
      "  warnings.warn(\n"
     ]
    }
   ],
   "execution_count": 6
  },
  {
   "metadata": {
    "ExecuteTime": {
     "end_time": "2025-02-07T11:34:15.995789Z",
     "start_time": "2025-02-07T11:34:15.994560Z"
    }
   },
   "cell_type": "code",
   "source": [],
   "outputs": [],
   "execution_count": 6
  }
 ],
 "metadata": {
  "kernelspec": {
   "display_name": "robcelib",
   "language": "python",
   "name": "python3"
  },
  "language_info": {
   "codemirror_mode": {
    "name": "ipython",
    "version": 3
   },
   "file_extension": ".py",
   "mimetype": "text/x-python",
   "name": "python",
   "nbconvert_exporter": "python",
   "pygments_lexer": "ipython3",
   "version": "3.10.16"
  }
 },
 "nbformat": 4,
 "nbformat_minor": 4
}
