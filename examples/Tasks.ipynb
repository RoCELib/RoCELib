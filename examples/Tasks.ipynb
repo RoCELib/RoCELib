{
 "cells": [
  {
   "cell_type": "markdown",
   "metadata": {
    "collapsed": false
   },
   "source": [
    "# Tasks\n",
    "\n",
    "Tasks are the basis of this library. A task is just a pair of a DatasetLoader and BaseModel. Currently,\n",
    "we only support \"ClassificationTask\"s. Here is how you create one:"
   ]
  },
  {
   "cell_type": "code",
   "metadata": {
    "collapsed": false,
    "ExecuteTime": {
     "end_time": "2025-02-07T11:39:19.378482Z",
     "start_time": "2025-02-07T11:39:14.359767Z"
    }
   },
   "source": [
    "import os\n",
    "import sys\n",
    "sys.path.append(os.path.join(os.path.dirname('rocelib'), '..'))\n",
    "\n",
    "from robustx.lib.tasks.ClassificationTask import ClassificationTask\n",
    "from robustx.lib.models.pytorch_models.SimpleNNModel import SimpleNNModel\n",
    "from robustx.datasets.ExampleDatasets import get_example_dataset\n",
    "\n",
    "# Get your dataset\n",
    "dl = get_example_dataset(\"ionosphere\")\n",
    "\n",
    "# Preprocess\n",
    "dl.default_preprocess()\n",
    "\n",
    "# Get your model\n",
    "model = SimpleNNModel(34, [10, 8], 1)\n",
    "\n",
    "task = ClassificationTask(model, dl)"
   ],
   "outputs": [],
   "execution_count": 1
  },
  {
   "cell_type": "markdown",
   "metadata": {
    "collapsed": false
   },
   "source": [
    "You can now do the following:"
   ]
  },
  {
   "cell_type": "code",
   "metadata": {
    "collapsed": false,
    "ExecuteTime": {
     "end_time": "2025-02-07T11:39:19.432360Z",
     "start_time": "2025-02-07T11:39:19.379442Z"
    }
   },
   "source": [
    "# Get the model\n",
    "model = task.model\n",
    "\n",
    "# Get the data\n",
    "dl = task.training_data\n",
    "\n",
    "# Train the model on the data, ensure the model is suited to the data's dimensions\n",
    "# and types, including being suitably preprocessed\n",
    "task.train()\n",
    "\n",
    "# Get a random positive instance from the dataset, used in BinaryLinearSearch, this is\n",
    "# defined here, as well as in DatasetLoader, because we may need an instance that is not\n",
    "# only positive within the dataset but predicted positive by the model too\n",
    "pos = task.get_random_positive_instance(neg_value=0)\n",
    "\n",
    "print(pos)"
   ],
   "outputs": [
    {
     "name": "stdout",
     "output_type": "stream",
     "text": [
      "     feature_0  feature_1  feature_2  feature_3  feature_4  feature_5  \\\n",
      "279   0.348433        0.0   0.679495   0.258001   0.578001   0.513918   \n",
      "\n",
      "     feature_6  feature_7  feature_8  feature_9  ...  feature_24  feature_25  \\\n",
      "279   0.549434   0.704316   0.406349   0.967658  ...    -1.56931    1.288826   \n",
      "\n",
      "     feature_26  feature_27  feature_28  feature_29  feature_30  feature_31  \\\n",
      "279    -2.16795    0.964854   -1.734475    0.662133   -1.769948     0.36511   \n",
      "\n",
      "     feature_32  feature_33  \n",
      "279   -1.898197    0.032501  \n",
      "\n",
      "[1 rows x 34 columns]\n"
     ]
    }
   ],
   "execution_count": 2
  }
 ],
 "metadata": {
  "kernelspec": {
   "display_name": "robcelib",
   "language": "python",
   "name": "python3"
  },
  "language_info": {
   "codemirror_mode": {
    "name": "ipython",
    "version": 3
   },
   "file_extension": ".py",
   "mimetype": "text/x-python",
   "name": "python",
   "nbconvert_exporter": "python",
   "pygments_lexer": "ipython3",
   "version": "3.10.16"
  }
 },
 "nbformat": 4,
 "nbformat_minor": 0
}
