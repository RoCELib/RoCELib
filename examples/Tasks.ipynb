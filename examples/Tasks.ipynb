{
 "cells": [
  {
   "cell_type": "markdown",
   "metadata": {
    "collapsed": false
   },
   "source": [
    "# Tasks\n",
    "\n",
    "Tasks are the basis of this library. A task is just a pair of a DatasetLoader and BaseModel. Currently,\n",
    "we only support \"ClassificationTask\"s. Here is how you create one:"
   ]
  },
  {
   "cell_type": "code",
   "execution_count": 1,
   "metadata": {
    "collapsed": false
   },
   "outputs": [],
   "source": [
    "import os\n",
    "import sys\n",
    "sys.path.append(os.path.join(os.path.dirname('rocelib'), '..'))\n",
    "\n",
    "from rocelib.lib.tasks.ClassificationTask import ClassificationTask\n",
    "from rocelib.lib.models.pytorch_models.SimpleNNModel import SimpleNNModel\n",
    "from rocelib.datasets.ExampleDatasets import get_example_dataset\n",
    "\n",
    "# Get your dataset\n",
    "dl = get_example_dataset(\"ionosphere\")\n",
    "\n",
    "# Preprocess\n",
    "dl.default_preprocess()\n",
    "\n",
    "# Get your model\n",
    "model = SimpleNNModel(34, [10, 8], 1)\n",
    "\n",
    "task = ClassificationTask(model, dl)"
   ]
  },
  {
   "cell_type": "markdown",
   "metadata": {
    "collapsed": false
   },
   "source": [
    "You can now do the following:"
   ]
  },
  {
   "cell_type": "code",
   "execution_count": 2,
   "metadata": {
    "collapsed": false
   },
   "outputs": [
    {
     "name": "stdout",
     "output_type": "stream",
     "text": [
      "     feature_0  feature_1  feature_2  feature_3  feature_4  feature_5  \\\n",
      "261   0.348433        0.0   0.315812   0.112971   0.347168   0.197045   \n",
      "\n",
      "     feature_6  feature_7  feature_8  feature_9  ...  feature_24  feature_25  \\\n",
      "261   0.337808   0.310226    0.35816   0.478463  ...   -0.837245    1.384519   \n",
      "\n",
      "     feature_26  feature_27  feature_28  feature_29  feature_30  feature_31  \\\n",
      "261   -1.282116    1.231695    -0.97503    1.159304   -1.064845    1.015524   \n",
      "\n",
      "     feature_32  feature_33  \n",
      "261   -1.193201    0.877093  \n",
      "\n",
      "[1 rows x 34 columns]\n"
     ]
    }
   ],
   "source": [
    "# Get the model\n",
    "model = task.model\n",
    "\n",
    "# Get the data\n",
    "dl = task.training_data\n",
    "\n",
    "# Train the model on the data, ensure the model is suited to the data's dimensions\n",
    "# and types, including being suitably preprocessed\n",
    "task.train()\n",
    "\n",
    "# Get a random positive instance from the dataset, used in BinaryLinearSearch, this is\n",
    "# defined here, as well as in DatasetLoader, because we may need an instance that is not\n",
    "# only positive within the dataset but predicted positive by the model too\n",
    "pos = task.get_random_positive_instance(neg_value=0)\n",
    "\n",
    "print(pos)"
   ]
  }
 ],
 "metadata": {
  "kernelspec": {
   "display_name": "robcelib",
   "language": "python",
   "name": "python3"
  },
  "language_info": {
   "codemirror_mode": {
    "name": "ipython",
    "version": 3
   },
   "file_extension": ".py",
   "mimetype": "text/x-python",
   "name": "python",
   "nbconvert_exporter": "python",
   "pygments_lexer": "ipython3",
   "version": "3.10.16"
  }
 },
 "nbformat": 4,
 "nbformat_minor": 0
}
