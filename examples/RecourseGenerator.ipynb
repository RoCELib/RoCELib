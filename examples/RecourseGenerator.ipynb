{
 "cells": [
  {
   "cell_type": "markdown",
   "metadata": {
    "collapsed": false
   },
   "source": [
    "# Recourse Generation\n",
    "\n",
    "The key point of this library - to implement recourse methods."
   ]
  },
  {
   "cell_type": "markdown",
   "metadata": {
    "collapsed": false
   },
   "source": [
    "## Usage\n",
    "\n",
    "Here is how to use a RecourseGenerator"
   ]
  },
  {
   "cell_type": "code",
   "execution_count": 2,
   "metadata": {
    "collapsed": false
   },
   "outputs": [],
   "source": [
    "# Import necessary components\n",
    "import os\n",
    "import sys\n",
    "sys.path.append(os.path.join(os.path.dirname('rocelib'), '..'))\n",
    "\n",
    "from rocelib.generators.recourse_methods.BinaryLinearSearch import BinaryLinearSearch\n",
    "from rocelib.lib.models.pytorch_models.SimpleNNModel import SimpleNNModel\n",
    "from rocelib.datasets.ExampleDatasets import get_example_dataset\n",
    "from rocelib.lib.models.sklearn_models.LogisticRegressionModel import LogisticRegressionModel\n",
    "from rocelib.lib.tasks.ClassificationTask import ClassificationTask\n",
    "from rocelib.generators.robust_recourse_methods.STCE import TrexNN\n",
    "\n",
    "# Load and preprocess dataset\n",
    "dl = get_example_dataset(\"ionosphere\")\n",
    "dl.default_preprocess()\n",
    "\n",
    "# Load model, note some RecourseGenerators may only work with a certain type of model,\n",
    "# e.g., MCE only works with a SimpleNNModel\n",
    "# model = LogisticRegressionModel()\n",
    "model = SimpleNNModel(34, [10], 1)\n",
    "# Create task\n",
    "task = ClassificationTask(model, dl)\n",
    "\n",
    "# Train model on dataset\n",
    "task.train()"
   ]
  },
  {
   "cell_type": "code",
   "execution_count": 3,
   "metadata": {
    "collapsed": false
   },
   "outputs": [
    {
     "name": "stdout",
     "output_type": "stream",
     "text": [
      "Restricted license - for non-production use only - expires 2025-11-24\n",
      "   feature_0  feature_1  feature_2  feature_3  feature_4  feature_5  \\\n",
      "1   0.348433        0.0   0.721648  -0.527811   0.634308  -1.037587   \n",
      "3   0.348433        0.0   0.721648  -1.125172   0.768477   1.921340   \n",
      "5   0.348433        0.0  -1.243407  -0.114091  -1.349028  -0.511523   \n",
      "7  -2.869990        0.0  -1.290430  -0.100661  -1.157858  -0.251849   \n",
      "9   0.348433        0.0  -1.327935  -0.292560  -1.157858  -0.251849   \n",
      "\n",
      "   feature_6  feature_7  feature_8  feature_9  ...  feature_24  feature_25  \\\n",
      "1  -1.339106  -2.029452   0.964074  -0.469482  ...   -1.037790   -0.383054   \n",
      "3   0.329433  -2.152585  -1.010873  -0.375331  ...    1.045426    1.926340   \n",
      "5  -1.133699  -0.456917  -0.720437  -0.237965  ...   -0.624980    0.109965   \n",
      "7   0.914531  -2.152585  -1.010873  -0.375331  ...    1.045426    2.109592   \n",
      "9  -1.118190  -0.229536  -0.784346  -0.930218  ...   -0.942070    0.114081   \n",
      "\n",
      "   feature_26  feature_27  feature_28  feature_29  feature_30  feature_31  \\\n",
      "1   -1.447849   -0.208419   -0.989185   -0.173530   -0.909063   -0.115213   \n",
      "3   -0.049490    1.947300    1.080843   -0.341218   -0.167687    1.957315   \n",
      "5   -1.113629    0.294529   -0.794754    0.069447   -0.617720    0.007398   \n",
      "7    0.889208    1.947300   -0.658092    0.055016    1.134610    1.957315   \n",
      "9   -0.650264    0.084840   -0.658092    0.055016   -0.326921    0.477055   \n",
      "\n",
      "   feature_32  feature_33  \n",
      "1   -0.932605   -0.083286  \n",
      "3   -1.289826    2.107299  \n",
      "5   -0.670131    0.225864  \n",
      "7   -0.669384   -0.030962  \n",
      "9   -0.826650    0.782967  \n",
      "\n",
      "[5 rows x 34 columns]\n"
     ]
    }
   ],
   "source": [
    "# Each RecourseGenerator takes the task on creation, it can also take a custom distance function\n",
    "#recourse_gen = BinaryLinearSearch(task)\n",
    "recourse_gen = TrexNN(task)\n",
    "# Get negative instances, the default column_name is always \"target\" but you can set it to the\n",
    "# name of your dataset's target variable\n",
    "negs = dl.get_negative_instances(neg_value=0, column_name=\"target\")\n",
    "\n",
    "# You can generate for a set of instances stored in a DataFrame\n",
    "print(recourse_gen.generate(negs.head(5)))"
   ]
  },
  {
   "cell_type": "code",
   "execution_count": 4,
   "metadata": {
    "collapsed": false
   },
   "outputs": [
    {
     "name": "stdout",
     "output_type": "stream",
     "text": [
      "   feature_0  feature_1  feature_2  feature_3  feature_4  feature_5  \\\n",
      "1   0.348433        0.0   0.721648  -0.527811   0.634308  -1.037587   \n",
      "\n",
      "   feature_6  feature_7  feature_8  feature_9  ...  feature_24  feature_25  \\\n",
      "1  -1.339106  -2.029452   0.964074  -0.469482  ...    -1.03779   -0.383054   \n",
      "\n",
      "   feature_26  feature_27  feature_28  feature_29  feature_30  feature_31  \\\n",
      "1   -1.447849   -0.208419   -0.989185    -0.17353   -0.909063   -0.115213   \n",
      "\n",
      "   feature_32  feature_33  \n",
      "1   -0.932605   -0.083286  \n",
      "\n",
      "[1 rows x 34 columns]\n"
     ]
    }
   ],
   "source": [
    "# You can generate for one instance, that can be a Series\n",
    "print(recourse_gen.generate_for_instance(negs.iloc[0]))"
   ]
  },
  {
   "cell_type": "code",
   "execution_count": 5,
   "metadata": {
    "collapsed": false
   },
   "outputs": [
    {
     "name": "stdout",
     "output_type": "stream",
     "text": [
      "     feature_0  feature_1  feature_2  feature_3  feature_4  feature_5  \\\n",
      "1     0.348433        0.0   0.721648  -0.527811   0.634308  -1.037587   \n",
      "3     0.348433        0.0   0.721648  -1.125172   0.768477   1.921340   \n",
      "5     0.348433        0.0  -1.243407  -0.114091  -1.349028  -0.511523   \n",
      "7    -2.869990        0.0  -1.290430  -0.100661  -1.157858  -0.251849   \n",
      "9     0.348433        0.0  -1.327935  -0.292560  -1.157858  -0.251849   \n",
      "..         ...        ...        ...        ...        ...        ...   \n",
      "242   0.348433        0.0  -0.431111  -1.234948  -1.157858  -0.251849   \n",
      "244   0.348433        0.0  -1.290430  -0.100661   0.768477   0.028254   \n",
      "246   0.348433        0.0  -1.290430  -0.100661  -1.157858  -0.251849   \n",
      "250   0.348433        0.0  -1.290430  -0.100661  -1.157858  -0.251849   \n",
      "252   0.348433        0.0  -1.290430  -0.100661  -1.157858  -0.251849   \n",
      "\n",
      "     feature_6  feature_7  feature_8  feature_9  ...  feature_24  feature_25  \\\n",
      "1    -1.339106  -2.029452   0.964074  -0.469482  ...   -1.037790   -0.383054   \n",
      "3     0.329433  -2.152585  -1.010873  -0.375331  ...    1.045426    1.926340   \n",
      "5    -1.133699  -0.456917  -0.720437  -0.237965  ...   -0.624980    0.109965   \n",
      "7     0.914531  -2.152585  -1.010873  -0.375331  ...    1.045426    2.109592   \n",
      "9    -1.118190  -0.229536  -0.784346  -0.930218  ...   -0.942070    0.114081   \n",
      "..         ...        ...        ...        ...  ...         ...         ...   \n",
      "242  -1.118190  -0.229536  -0.093352   0.681087  ...    1.023785   -0.663969   \n",
      "244   0.679630  -0.267997  -1.010873  -0.375331  ...   -0.685798    0.140195   \n",
      "246  -1.118190  -0.229536  -1.010873  -0.375331  ...   -0.685798    0.140195   \n",
      "250   0.914531   1.693513  -2.985820  -2.445034  ...   -0.685798    0.140195   \n",
      "252  -1.118190  -0.229536  -2.985820   1.694372  ...   -0.685798    0.140195   \n",
      "\n",
      "     feature_26  feature_27  feature_28  feature_29  feature_30  feature_31  \\\n",
      "1     -1.447849   -0.208419   -0.989185   -0.173530   -0.909063   -0.115213   \n",
      "3     -0.049490    1.947300    1.080843   -0.341218   -0.167687    1.957315   \n",
      "5     -1.113629    0.294529   -0.794754    0.069447   -0.617720    0.007398   \n",
      "7      0.889208    1.947300   -0.658092    0.055016    1.134610    1.957315   \n",
      "9     -0.650264    0.084840   -0.658092    0.055016   -0.326921    0.477055   \n",
      "..          ...         ...         ...         ...         ...         ...   \n",
      "242   -2.990755   -1.694087   -1.143550   -1.435866   -0.617720    0.007398   \n",
      "244    0.889208   -1.694087   -0.658092    0.055016    1.134610    0.237059   \n",
      "246    0.889208    1.947300   -0.658092    0.055016   -0.617720    0.007398   \n",
      "250    0.889208   -1.694087   -0.658092    0.055016   -0.617720    0.007398   \n",
      "252    0.889208    0.539303   -0.658092    0.055016   -0.617720    0.007398   \n",
      "\n",
      "     feature_32  feature_33  \n",
      "1     -0.932605   -0.083286  \n",
      "3     -1.289826    2.107299  \n",
      "5     -0.670131    0.225864  \n",
      "7     -0.669384   -0.030962  \n",
      "9     -0.826650    0.782967  \n",
      "..          ...         ...  \n",
      "242   -0.669384   -0.030962  \n",
      "244    1.067804   -0.235295  \n",
      "246   -0.669384   -0.030962  \n",
      "250    1.246625    2.107299  \n",
      "252   -0.669384   -0.030962  \n",
      "\n",
      "[125 rows x 34 columns]\n"
     ]
    }
   ],
   "source": [
    "# You can generate for all negative instances\n",
    "print(recourse_gen.generate_for_all(neg_value=0, column_name=\"target\"))"
   ]
  },
  {
   "cell_type": "markdown",
   "metadata": {
    "collapsed": false
   },
   "source": [
    "## Implementing your own RecourseGenerator\n",
    "\n",
    "Here is an example of creating your own RecourseGenerator. Let's make a simple one which gets\n",
    "n different positive instances and chooses a random one. Let's say it also allows a random seed value."
   ]
  },
  {
   "cell_type": "code",
   "execution_count": 6,
   "metadata": {
    "collapsed": false
   },
   "outputs": [],
   "source": [
    "from rocelib.generators.RecourseGenerator import RecourseGenerator\n",
    "import pandas as pd\n",
    "\n",
    "# Implement the RecourseGenerator class\n",
    "class RandomCE(RecourseGenerator):\n",
    "\n",
    "    # You must implement the _generation_method function, this returns the CE for a given\n",
    "    # instance, if you take any extra arguments make sure to specify them before **kwargs,\n",
    "    # like we have done for n and seed (they must have some default value)\n",
    "    def _generation_method(self, instance,\n",
    "                           column_name=\"target\", neg_value=0, n=50, seed=None, **kwargs):\n",
    "        # Remember, the RecourseGenerator has access to its Task! Use this to get access to your dataset or model,\n",
    "        # or to use any of their methods, here we use the ClassificationTask's get_random_positive_instance() method\n",
    "        pos = pd.concat([self.task.get_random_positive_instance(neg_value=neg_value, column_name=column_name) for _ in range(n)])\n",
    "\n",
    "        # Depending on whether a seed is provided, we return a random positive - the result must be a DataFrame\n",
    "        if seed is None:\n",
    "            return pos.sample(n=1)\n",
    "\n",
    "        return pos.sample(n=1, random_state=seed)"
   ]
  },
  {
   "cell_type": "markdown",
   "metadata": {
    "collapsed": false
   },
   "source": [
    "Within the RecourseGenerator you can access:\n",
    "\n",
    "- The Task - self.Task\n",
    "- The DatasetLoader - self.task.training_data\n",
    "- The BaseModel - self.task.model\n",
    "\n",
    "and their respective methods. If your method needs additional arguments, you can put them in the function signature\n",
    "but do NOT remove any other arguments (including **kwargs). Remember to return a DataFrame!\n",
    "\n",
    "Here is our new CE in use below:"
   ]
  },
  {
   "cell_type": "code",
   "execution_count": 7,
   "metadata": {
    "collapsed": false
   },
   "outputs": [
    {
     "name": "stdout",
     "output_type": "stream",
     "text": [
      "     feature_0  feature_1  feature_2  feature_3  feature_4  feature_5  \\\n",
      "1     0.348433        0.0   0.721648  -0.176998   0.768477  -0.241309   \n",
      "3     0.348433        0.0   0.714505   0.046070   0.768477  -0.278709   \n",
      "5     0.348433        0.0   0.721648  -0.250478   0.768477   1.115891   \n",
      "7     0.348433        0.0   0.721648  -0.250478   0.768477   1.115891   \n",
      "9     0.348433        0.0   0.721648  -0.008148   0.768477   0.008543   \n",
      "..         ...        ...        ...        ...        ...        ...   \n",
      "242   0.348433        0.0   0.544102  -0.300840   0.711823   0.131654   \n",
      "244   0.348433        0.0   0.532674  -0.138251   0.732300  -0.295073   \n",
      "246   0.348433        0.0   0.080761   0.134590   0.326133  -0.176722   \n",
      "250   0.348433        0.0   0.389816   0.087585   0.262602  -0.571438   \n",
      "252   0.348433        0.0   0.684747  -0.080834   0.731934  -0.334821   \n",
      "\n",
      "     feature_6  feature_7  feature_8  feature_9  ...  feature_24  feature_25  \\\n",
      "1     0.914531  -0.461494   0.746139  -0.350536  ...    0.310141   -0.651896   \n",
      "3     0.870035  -0.181498   0.887288  -0.327480  ...    0.722189    0.404331   \n",
      "5     0.914531  -0.045750   0.964074   0.044405  ...    1.045426   -1.002882   \n",
      "7     0.914531  -0.045750   0.964074   0.044405  ...    1.045426   -1.002882   \n",
      "9     0.914531   0.081210   0.964074   0.202551  ...    0.475455    1.316378   \n",
      "..         ...        ...        ...        ...  ...         ...         ...   \n",
      "242   0.555817  -0.059846   0.789805  -0.436201  ...    0.790832    0.198115   \n",
      "244   0.826941  -0.299650   0.682565  -0.373054  ...    0.890481    0.098858   \n",
      "246   0.206839  -0.072846   0.193608  -0.385555  ...    0.468357   -0.112675   \n",
      "250   0.596390  -0.336592   0.775289  -0.470993  ...    0.965408    0.057441   \n",
      "252   0.865034  -0.339130   0.884030  -0.519610  ...    0.846110   -0.247559   \n",
      "\n",
      "     feature_26  feature_27  feature_28  feature_29  feature_30  feature_31  \\\n",
      "1      0.093506   -0.276586    0.091389   -0.287320    0.441318   -0.464092   \n",
      "3      0.491047    0.374913    0.717580    0.358200    0.733712    0.318019   \n",
      "5      0.889208   -1.354928    1.080843   -1.916398    1.134610   -1.524360   \n",
      "7      0.889208   -1.354928    1.080843   -1.916398    1.134610   -1.524360   \n",
      "9      0.091934    1.237048    0.280099    1.256239    0.176295    1.248247   \n",
      "..          ...         ...         ...         ...         ...         ...   \n",
      "242    0.746872    0.173945    0.978559   -0.176920    1.083074    0.122092   \n",
      "244    0.678662   -0.014679    0.784929   -0.284816    1.064902   -0.065861   \n",
      "246    0.186411    0.081981    0.672941    0.098821    0.455319   -0.132217   \n",
      "250    0.568704    0.128846    1.080843    0.307653    0.900849   -0.201517   \n",
      "252    0.536384   -0.258215    0.707772   -0.415442    0.730014   -0.442936   \n",
      "\n",
      "     feature_32  feature_33  \n",
      "1      0.404443   -0.848591  \n",
      "3      0.689852    0.225950  \n",
      "5      1.246625   -1.062716  \n",
      "7      1.246625   -1.062716  \n",
      "9      0.105488    1.308830  \n",
      "..          ...         ...  \n",
      "242    1.077556    0.094810  \n",
      "244    1.005265   -0.378280  \n",
      "246    0.314640   -0.131268  \n",
      "250    1.065485   -0.123057  \n",
      "252    0.754651   -0.542050  \n",
      "\n",
      "[125 rows x 34 columns]\n"
     ]
    }
   ],
   "source": [
    "# Create RecourseGenerator\n",
    "random_ce = RandomCE(task)\n",
    "\n",
    "# Test it\n",
    "ces = random_ce.generate_for_all()\n",
    "print(ces)"
   ]
  },
  {
   "cell_type": "markdown",
   "metadata": {
    "collapsed": false
   },
   "source": [
    "We can even verify it by seeing all the predictions for the CEs are positive."
   ]
  },
  {
   "cell_type": "code",
   "execution_count": 8,
   "metadata": {
    "collapsed": false
   },
   "outputs": [
    {
     "name": "stdout",
     "output_type": "stream",
     "text": [
      "            0\n",
      "0    0.674967\n",
      "1    0.742654\n",
      "2    0.698597\n",
      "3    0.698597\n",
      "4    0.724774\n",
      "..        ...\n",
      "120  0.734488\n",
      "121  0.731971\n",
      "122  0.601141\n",
      "123  0.720799\n",
      "124  0.736545\n",
      "\n",
      "[125 rows x 1 columns]\n"
     ]
    }
   ],
   "source": [
    "print(model.predict(ces))"
   ]
  }
 ],
 "metadata": {
  "kernelspec": {
   "display_name": "robcelib",
   "language": "python",
   "name": "python3"
  },
  "language_info": {
   "codemirror_mode": {
    "name": "ipython",
    "version": 3
   },
   "file_extension": ".py",
   "mimetype": "text/x-python",
   "name": "python",
   "nbconvert_exporter": "python",
   "pygments_lexer": "ipython3",
   "version": "3.10.16"
  }
 },
 "nbformat": 4,
 "nbformat_minor": 0
}
