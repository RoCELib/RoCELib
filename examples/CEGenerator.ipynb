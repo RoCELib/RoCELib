{
 "cells": [
  {
   "cell_type": "markdown",
   "metadata": {
    "collapsed": false
   },
   "source": [
    "# Recourse Generation\n",
    "\n",
    "The key point of this library - to implement recourse methods."
   ]
  },
  {
   "cell_type": "markdown",
   "metadata": {
    "collapsed": false
   },
   "source": [
    "## Usage\n",
    "\n",
    "Here is how to use a RecourseGenerator"
   ]
  },
  {
   "cell_type": "code",
   "execution_count": 3,
   "metadata": {
    "ExecuteTime": {
     "end_time": "2025-02-07T11:40:57.435679Z",
     "start_time": "2025-02-07T11:40:56.501837Z"
    },
    "collapsed": false
   },
   "outputs": [
    {
     "name": "stdout",
     "output_type": "stream",
     "text": [
      "model accuracy:  0.8571428656578064\n"
     ]
    }
   ],
   "source": [
    "# Import necessary components\n",
    "from sklearn.model_selection import train_test_split\n",
    "from robustx.generators.CE_methods.BinaryLinearSearch import BinaryLinearSearch\n",
    "from robustx.lib.models.pytorch_models.SimpleNNModel import SimpleNNModel\n",
    "from robustx.datasets.ExampleDatasets import get_example_dataset\n",
    "from robustx.lib.models.sklearn_models.LogisticRegressionModel import LogisticRegressionModel\n",
    "from robustx.lib.tasks.ClassificationTask import ClassificationTask\n",
    "from robustx.generators.robust_CE_methods.STCE import TrexNN\n",
    "\n",
    "# Load and preprocess dataset\n",
    "dl = get_example_dataset(\"ionosphere\")\n",
    "dl.default_preprocess()\n",
    "\n",
    "# Load model, note some RecourseGenerators may only work with a certain type of model,\n",
    "# e.g., MCE only works with a SimpleNNModel\n",
    "# model = LogisticRegressionModel()\n",
    "model = SimpleNNModel(34, [10], 1, seed=0)\n",
    "\n",
    "target_column = \"target\"\n",
    "X_train, X_test, y_train, y_test = train_test_split(dl.data.drop(columns=[target_column]), dl.data[target_column], test_size=0.2, random_state=0)\n",
    "\n",
    "model.train(X_train, y_train)\n",
    "\n",
    "print(\"model accuracy: \", model.compute_accuracy(X_test.values, y_test.values))\n",
    "\n",
    "# Create task\n",
    "task = ClassificationTask(model, dl)"
   ]
  },
  {
   "cell_type": "code",
   "execution_count": 4,
   "metadata": {
    "ExecuteTime": {
     "end_time": "2025-02-07T11:41:02.196196Z",
     "start_time": "2025-02-07T11:40:57.436946Z"
    },
    "collapsed": false
   },
   "outputs": [
    {
     "name": "stdout",
     "output_type": "stream",
     "text": [
      "   feature_0  feature_1  feature_2  feature_3  feature_4  feature_5  \\\n",
      "1   0.348433        0.0   0.721648  -0.527811   0.634308  -1.037587   \n",
      "3   0.348433        0.0   0.721648  -1.125172   0.768477   1.921340   \n",
      "5   0.348433        0.0  -1.243407  -0.114091  -1.349028  -0.511523   \n",
      "7  -2.869990        0.0  -1.290430  -0.100661  -1.157858  -0.251849   \n",
      "9   0.348433        0.0  -1.327935  -0.292560  -1.157858  -0.251849   \n",
      "\n",
      "   feature_6  feature_7  feature_8  feature_9  ...  feature_24  feature_25  \\\n",
      "1  -1.339106  -2.029452   0.964074  -0.469482  ...   -1.037790   -0.383054   \n",
      "3   0.329433  -2.152585  -1.010873  -0.375331  ...    1.045426    1.926340   \n",
      "5  -1.133699  -0.456917  -0.720437  -0.237965  ...   -0.624980    0.109965   \n",
      "7   0.914531  -2.152585  -1.010873  -0.375331  ...    1.045426    2.109592   \n",
      "9  -1.118190  -0.229536  -0.784346  -0.930218  ...   -0.942070    0.114081   \n",
      "\n",
      "   feature_26  feature_27  feature_28  feature_29  feature_30  feature_31  \\\n",
      "1   -1.447849   -0.208419   -0.989185   -0.173530   -0.909063   -0.115213   \n",
      "3   -0.049490    1.947300    1.080843   -0.341218   -0.167687    1.957315   \n",
      "5   -1.113629    0.294529   -0.794754    0.069447   -0.617720    0.007398   \n",
      "7    0.889208    1.947300   -0.658092    0.055016    1.134610    1.957315   \n",
      "9   -0.650264    0.084840   -0.658092    0.055016   -0.326921    0.477055   \n",
      "\n",
      "   feature_32  feature_33  \n",
      "1   -0.932605   -0.083286  \n",
      "3   -1.289826    2.107299  \n",
      "5   -0.670131    0.225864  \n",
      "7   -0.669384   -0.030962  \n",
      "9   -0.826650    0.782967  \n",
      "\n",
      "[5 rows x 34 columns]\n"
     ]
    }
   ],
   "source": [
    "# Each RecourseGenerator takes the task on creation, it can also take a custom distance function\n",
    "#recourse_gen = BinaryLinearSearch(task)\n",
    "ce_gen = TrexNN(task)\n",
    "# Get negative instances, the default column_name is always \"target\" but you can set it to the\n",
    "# name of your dataset's target variable\n",
    "negs = dl.get_negative_instances(neg_value=0, column_name=\"target\")\n",
    "\n",
    "# You can generate for a set of instances stored in a DataFrame\n",
    "print(ce_gen.generate(negs.head(5)))"
   ]
  },
  {
   "cell_type": "code",
   "execution_count": 5,
   "metadata": {
    "ExecuteTime": {
     "end_time": "2025-02-07T11:41:03.173345Z",
     "start_time": "2025-02-07T11:41:02.196825Z"
    },
    "collapsed": false
   },
   "outputs": [
    {
     "name": "stdout",
     "output_type": "stream",
     "text": [
      "   feature_0  feature_1  feature_2  feature_3  feature_4  feature_5  \\\n",
      "1   0.348433        0.0   0.721648  -0.527811   0.634308  -1.037587   \n",
      "\n",
      "   feature_6  feature_7  feature_8  feature_9  ...  feature_24  feature_25  \\\n",
      "1  -1.339106  -2.029452   0.964074  -0.469482  ...    -1.03779   -0.383054   \n",
      "\n",
      "   feature_26  feature_27  feature_28  feature_29  feature_30  feature_31  \\\n",
      "1   -1.447849   -0.208419   -0.989185    -0.17353   -0.909063   -0.115213   \n",
      "\n",
      "   feature_32  feature_33  \n",
      "1   -0.932605   -0.083286  \n",
      "\n",
      "[1 rows x 34 columns]\n"
     ]
    }
   ],
   "source": [
    "# You can generate for one instance, that can be a Series\n",
    "print(ce_gen.generate_for_instance(negs.iloc[0]))"
   ]
  },
  {
   "cell_type": "code",
   "execution_count": 6,
   "metadata": {
    "ExecuteTime": {
     "end_time": "2025-02-07T11:43:00.575841Z",
     "start_time": "2025-02-07T11:41:03.174818Z"
    },
    "collapsed": false
   },
   "outputs": [
    {
     "name": "stdout",
     "output_type": "stream",
     "text": [
      "     feature_0  feature_1  feature_2  feature_3  feature_4  feature_5  \\\n",
      "1     0.348433        0.0   0.721648  -0.527811   0.634308  -1.037587   \n",
      "3     0.348433        0.0   0.721648  -1.125172   0.768477   1.921340   \n",
      "5     0.348433        0.0  -1.243407  -0.114091  -1.349028  -0.511523   \n",
      "7    -2.869990        0.0  -1.290430  -0.100661  -1.157858  -0.251849   \n",
      "9     0.348433        0.0  -1.327935  -0.292560  -1.157858  -0.251849   \n",
      "..         ...        ...        ...        ...        ...        ...   \n",
      "242   0.348433        0.0  -0.431111  -1.234948  -1.157858  -0.251849   \n",
      "244   0.348433        0.0  -1.290430  -0.100661   0.768477   0.028254   \n",
      "246   0.348433        0.0  -1.290430  -0.100661  -1.157858  -0.251849   \n",
      "250   0.348433        0.0  -1.290430  -0.100661  -1.157858  -0.251849   \n",
      "252   0.348433        0.0  -1.290430  -0.100661  -1.157858  -0.251849   \n",
      "\n",
      "     feature_6  feature_7  feature_8  feature_9  ...  feature_24  feature_25  \\\n",
      "1    -1.339106  -2.029452   0.964074  -0.469482  ...   -1.037790   -0.383054   \n",
      "3     0.329433  -2.152585  -1.010873  -0.375331  ...    1.045426    1.926340   \n",
      "5    -1.133699  -0.456917  -0.720437  -0.237965  ...   -0.624980    0.109965   \n",
      "7     0.914531  -2.152585  -1.010873  -0.375331  ...    1.045426    2.109592   \n",
      "9    -1.118190  -0.229536  -0.784346  -0.930218  ...   -0.942070    0.114081   \n",
      "..         ...        ...        ...        ...  ...         ...         ...   \n",
      "242  -1.118190  -0.229536  -0.093352   0.681087  ...    1.023785   -0.663969   \n",
      "244   0.679630  -0.267997  -1.010873  -0.375331  ...   -0.685798    0.140195   \n",
      "246  -1.118190  -0.229536  -1.010873  -0.375331  ...   -0.685798    0.140195   \n",
      "250   0.914531   1.693513  -2.985820  -2.445034  ...   -0.685798    0.140195   \n",
      "252  -1.118190  -0.229536  -2.985820   1.694372  ...   -0.685798    0.140195   \n",
      "\n",
      "     feature_26  feature_27  feature_28  feature_29  feature_30  feature_31  \\\n",
      "1     -1.447849   -0.208419   -0.989185   -0.173530   -0.909063   -0.115213   \n",
      "3     -0.049490    1.947300    1.080843   -0.341218   -0.167687    1.957315   \n",
      "5     -1.113629    0.294529   -0.794754    0.069447   -0.617720    0.007398   \n",
      "7      0.889208    1.947300   -0.658092    0.055016    1.134610    1.957315   \n",
      "9     -0.650264    0.084840   -0.658092    0.055016   -0.326921    0.477055   \n",
      "..          ...         ...         ...         ...         ...         ...   \n",
      "242   -2.990755   -1.694087   -1.143550   -1.435866   -0.617720    0.007398   \n",
      "244    0.889208   -1.694087   -0.658092    0.055016    1.134610    0.237059   \n",
      "246    0.889208    1.947300   -0.658092    0.055016   -0.617720    0.007398   \n",
      "250    0.889208   -1.694087   -0.658092    0.055016   -0.617720    0.007398   \n",
      "252    0.889208    0.539303   -0.658092    0.055016   -0.617720    0.007398   \n",
      "\n",
      "     feature_32  feature_33  \n",
      "1     -0.932605   -0.083286  \n",
      "3     -1.289826    2.107299  \n",
      "5     -0.670131    0.225864  \n",
      "7     -0.669384   -0.030962  \n",
      "9     -0.826650    0.782967  \n",
      "..          ...         ...  \n",
      "242   -0.669384   -0.030962  \n",
      "244    1.067804   -0.235295  \n",
      "246   -0.669384   -0.030962  \n",
      "250    1.246625    2.107299  \n",
      "252   -0.669384   -0.030962  \n",
      "\n",
      "[125 rows x 34 columns]\n"
     ]
    }
   ],
   "source": [
    "# You can generate for all negative instances\n",
    "print(ce_gen.generate_for_all(neg_value=0, column_name=\"target\"))"
   ]
  },
  {
   "cell_type": "markdown",
   "metadata": {
    "collapsed": false
   },
   "source": [
    "## Implementing your own RecourseGenerator\n",
    "\n",
    "Here is an example of creating your own RecourseGenerator. Let's make a simple one which gets\n",
    "n different positive instances and chooses a random one. Let's say it also allows a random seed value."
   ]
  },
  {
   "cell_type": "code",
   "execution_count": 17,
   "metadata": {
    "ExecuteTime": {
     "end_time": "2025-02-07T11:43:00.582480Z",
     "start_time": "2025-02-07T11:43:00.577104Z"
    },
    "collapsed": false
   },
   "outputs": [],
   "source": [
    "from robustx.generators.CEGenerator import CEGenerator\n",
    "import pandas as pd\n",
    "\n",
    "# Implement the RecourseGenerator class\n",
    "class RandomCE(CEGenerator):\n",
    "\n",
    "    # You must implement the _generation_method function, this returns the CE for a given\n",
    "    # instance, if you take any extra arguments make sure to specify them before **kwargs,\n",
    "    # like we have done for n and seed (they must have some default value)\n",
    "    def _generation_method(self, instance,\n",
    "                           column_name=\"target\", neg_value=0, n=50, seed=None, **kwargs):\n",
    "        # Remember, the RecourseGenerator has access to its Task! Use this to get access to your dataset or model,\n",
    "        # or to use any of their methods, here we use the ClassificationTask's get_random_positive_instance() method\n",
    "        pos = pd.concat([self.task.get_random_positive_instance(neg_value=neg_value, column_name=column_name) for _ in range(n)])\n",
    "\n",
    "        # Depending on whether a seed is provided, we return a random positive - the result must be a DataFrame\n",
    "        if seed is None:\n",
    "            return pos.sample(n=1)\n",
    "\n",
    "        return pos.sample(n=1, random_state=seed)"
   ]
  },
  {
   "cell_type": "markdown",
   "metadata": {
    "collapsed": false
   },
   "source": [
    "Within the RecourseGenerator you can access:\n",
    "\n",
    "- The Task - self.Task\n",
    "- The DatasetLoader - self.task.training_data\n",
    "- The BaseModel - self.task.model\n",
    "\n",
    "and their respective methods. If your method needs additional arguments, you can put them in the function signature\n",
    "but do NOT remove any other arguments (including **kwargs). Remember to return a DataFrame!\n",
    "\n",
    "Here is our new CE in use below:"
   ]
  },
  {
   "cell_type": "code",
   "execution_count": 18,
   "metadata": {
    "ExecuteTime": {
     "end_time": "2025-02-07T11:43:02.681345Z",
     "start_time": "2025-02-07T11:43:00.583425Z"
    },
    "collapsed": false
   },
   "outputs": [
    {
     "name": "stdout",
     "output_type": "stream",
     "text": [
      "     feature_0  feature_1  feature_2  feature_3  feature_4  feature_5  \\\n",
      "1     0.348433        0.0   0.188910  -0.969366   0.386119  -0.028488   \n",
      "3     0.348433        0.0   0.721648   0.121001   0.768477   0.013215   \n",
      "5     0.348433        0.0  -0.114189  -0.906595   0.768477   0.516113   \n",
      "7     0.348433        0.0   0.721648   0.445544   0.764913  -0.243830   \n",
      "9     0.348433        0.0   0.721648   0.157616   0.190942  -0.515761   \n",
      "..         ...        ...        ...        ...        ...        ...   \n",
      "242   0.348433        0.0   0.461044   0.762010   0.076903   1.252259   \n",
      "244   0.348433        0.0  -0.349079   0.155869  -0.021706  -0.237397   \n",
      "246   0.348433        0.0   0.555994   0.312174   0.500524   0.520568   \n",
      "250   0.348433        0.0   0.721648   0.445544   0.764913  -0.243830   \n",
      "252   0.348433        0.0   0.721648  -0.423615   0.768477  -0.605122   \n",
      "\n",
      "     feature_6  feature_7  feature_8  feature_9  ...  feature_24  feature_25  \\\n",
      "1     0.484123   0.064037   0.086803  -0.266630  ...    0.950728    1.273563   \n",
      "3     0.914531   0.204573   0.936464  -0.184153  ...    0.633273    0.822749   \n",
      "5     0.413994  -0.240382   0.618834   0.025384  ...    0.436901    0.047653   \n",
      "7     0.512947  -0.809008   0.764980  -0.861421  ...   -0.270893   -0.886688   \n",
      "9     0.540389  -0.043442   0.394440  -0.351757  ...    0.237308    0.876376   \n",
      "..         ...        ...        ...        ...  ...         ...         ...   \n",
      "242  -0.480993   1.436305  -1.088548   1.502717  ...   -0.416558   -1.167898   \n",
      "244   0.008588  -0.097345  -0.064992  -0.664448  ...    0.032020   -0.257170   \n",
      "246   0.363115   0.650201   0.182489   1.070667  ...   -1.605769    1.201424   \n",
      "250   0.512947  -0.809008   0.764980  -0.861421  ...   -0.270893   -0.886688   \n",
      "252   0.914531  -0.684452   0.964074  -0.530849  ...    1.045426   -0.798085   \n",
      "\n",
      "     feature_26  feature_27  feature_28  feature_29  feature_30  feature_31  \\\n",
      "1     -0.193806    1.004181   -0.441194    2.026431   -0.003178    0.976916   \n",
      "3      0.277183    0.904880    0.433334    0.962478    0.377445    0.924502   \n",
      "5      0.051835   -0.065859    0.260414   -0.208089   -0.344322   -0.230843   \n",
      "7     -0.484143   -0.754427   -0.435908   -0.716654   -0.343358   -0.993476   \n",
      "9     -0.098436    0.453439   -0.394121    0.694701    0.155776    0.375873   \n",
      "..          ...         ...         ...         ...         ...         ...   \n",
      "242   -0.303027   -0.812289    0.256119   -0.534377    0.367773   -0.108389   \n",
      "244   -0.004541   -0.081954    0.382957   -0.001800    0.322562   -0.221757   \n",
      "246   -2.221125    0.872581   -1.779896    0.593962   -1.769177    0.273893   \n",
      "250   -0.484143   -0.754427   -0.435908   -0.716654   -0.343358   -0.993476   \n",
      "252    0.866317   -0.778041    1.080843   -1.439710    1.134610   -1.469879   \n",
      "\n",
      "     feature_32  feature_33  \n",
      "1     -0.083315    1.034555  \n",
      "3      0.370089    1.057477  \n",
      "5      0.188356   -0.251396  \n",
      "7     -0.317739   -1.027456  \n",
      "9      0.406781    0.293626  \n",
      "..          ...         ...  \n",
      "242    0.316594    0.324951  \n",
      "244    0.409693   -0.125794  \n",
      "246   -1.896702    0.084376  \n",
      "250   -0.317739   -1.027456  \n",
      "252    1.246625   -1.836446  \n",
      "\n",
      "[125 rows x 34 columns]\n"
     ]
    }
   ],
   "source": [
    "# Create RecourseGenerator\n",
    "random_ce = RandomCE(task)\n",
    "\n",
    "# Test it\n",
    "ces = random_ce.generate_for_all()\n",
    "print(ces)"
   ]
  },
  {
   "cell_type": "markdown",
   "metadata": {
    "collapsed": false
   },
   "source": [
    "We can verify it by seeing all the predictions for the CEs are positive."
   ]
  },
  {
   "cell_type": "code",
   "execution_count": 19,
   "metadata": {
    "ExecuteTime": {
     "end_time": "2025-02-07T11:43:02.684474Z",
     "start_time": "2025-02-07T11:43:02.682067Z"
    },
    "collapsed": false
   },
   "outputs": [
    {
     "name": "stdout",
     "output_type": "stream",
     "text": [
      "            0\n",
      "0    0.605905\n",
      "1    0.639906\n",
      "2    0.596423\n",
      "3    0.603354\n",
      "4    0.609005\n",
      "..        ...\n",
      "120  0.802647\n",
      "121  0.583777\n",
      "122  0.650918\n",
      "123  0.603354\n",
      "124  0.680021\n",
      "\n",
      "[125 rows x 1 columns]\n"
     ]
    }
   ],
   "source": [
    "print(model.predict(ces))"
   ]
  }
 ],
 "metadata": {
  "kernelspec": {
   "display_name": "robcelib",
   "language": "python",
   "name": "python3"
  },
  "language_info": {
   "codemirror_mode": {
    "name": "ipython",
    "version": 3
   },
   "file_extension": ".py",
   "mimetype": "text/x-python",
   "name": "python",
   "nbconvert_exporter": "python",
   "pygments_lexer": "ipython3",
   "version": "3.10.16"
  }
 },
 "nbformat": 4,
 "nbformat_minor": 0
}
